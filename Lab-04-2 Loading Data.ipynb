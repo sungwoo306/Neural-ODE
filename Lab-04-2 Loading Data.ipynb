{
 "cells": [
  {
   "cell_type": "code",
   "execution_count": null,
   "metadata": {},
   "outputs": [
    {
     "ename": "",
     "evalue": "",
     "output_type": "error",
     "traceback": [
      "\u001b[1;31m'/usr/bin/python3'(으)로 셀을 실행하려면 ipykernel 패키지가 필요합니다.\n",
      "\u001b[1;31mRun the following command to install 'ipykernel' into the Python environment. \n",
      "\u001b[1;31mCommand: '/usr/bin/python3 -m pip install ipykernel -U --user --force-reinstall'"
     ]
    }
   ],
   "source": [
    "# Lab-04-2 Loading Data\n",
    "\n",
    "# Data in Real World\n",
    "# 복잡한 머신러닝 모델을 학습하려면 엄청난 양의 데이터가 필요하다!\n",
    "# 대부분 데이터셋은 적어도 수십만 개의 데이터를 제공한다.\n",
    "# 엄청난 양의 데이터를 한번에 학습시킬 수 없다! / 너무 느리다. / 하드웨어적으로 불가능하다.\n",
    "# 그렇다면 일부분의 데이터로만 학습하면 어떨까?\n",
    "\n",
    "# 그래서 Minibatch Gradient Descent\n",
    "# 전체 데이터를 균일하게 나눠서 학습하자!\n",
    "\n",
    "# 한번의 Gradient Descent하지 않고, 모델의 cost를 계산할때 전체 data를 사용하지 않아 업데이트를 좀 더 빠르게 할 수 있다.\n",
    "# 하지만, 전체 데이터를 쓰지 않아서 잘못된 방향으로 업데이트를 할 수도 있다.\n",
    "\n",
    "\n",
    "\n"
   ]
  },
  {
   "cell_type": "code",
   "execution_count": 3,
   "metadata": {},
   "outputs": [
    {
     "name": "stderr",
     "output_type": "stream",
     "text": [
      "<>:9: SyntaxWarning: list indices must be integers or slices, not tuple; perhaps you missed a comma?\n",
      "<>:9: SyntaxWarning: list indices must be integers or slices, not tuple; perhaps you missed a comma?\n",
      "/var/folders/6z/z725jdx950xdng1rd1h1qxq40000gn/T/ipykernel_15702/3640355620.py:9: SyntaxWarning: list indices must be integers or slices, not tuple; perhaps you missed a comma?\n",
      "  [96, 88, 100]\n",
      "/var/folders/6z/z725jdx950xdng1rd1h1qxq40000gn/T/ipykernel_15702/3640355620.py:9: SyntaxWarning: list indices must be integers or slices, not tuple; perhaps you missed a comma?\n",
      "  [96, 88, 100]\n",
      "/var/folders/6z/z725jdx950xdng1rd1h1qxq40000gn/T/ipykernel_15702/3640355620.py:9: SyntaxWarning: list indices must be integers or slices, not tuple; perhaps you missed a comma?\n",
      "  [96, 88, 100]\n"
     ]
    },
    {
     "ename": "TypeError",
     "evalue": "list indices must be integers or slices, not tuple",
     "output_type": "error",
     "traceback": [
      "\u001b[0;31m---------------------------------------------------------------------------\u001b[0m",
      "\u001b[0;31mTypeError\u001b[0m                                 Traceback (most recent call last)",
      "\u001b[1;32m/Users/paul/Desktop/JHElab/Project/Neural ODE/Lab-04-2 Loading Data.ipynb 셀 2\u001b[0m in \u001b[0;36m<cell line: 26>\u001b[0;34m()\u001b[0m\n\u001b[1;32m     <a href='vscode-notebook-cell:/Users/paul/Desktop/JHElab/Project/Neural%20ODE/Lab-04-2%20Loading%20Data.ipynb#W1sZmlsZQ%3D%3D?line=21'>22</a>\u001b[0m         y \u001b[39m=\u001b[39m torch\u001b[39m.\u001b[39mFloatTensor(\u001b[39mself\u001b[39m\u001b[39m.\u001b[39my_data[idx])\n\u001b[1;32m     <a href='vscode-notebook-cell:/Users/paul/Desktop/JHElab/Project/Neural%20ODE/Lab-04-2%20Loading%20Data.ipynb#W1sZmlsZQ%3D%3D?line=23'>24</a>\u001b[0m         \u001b[39mreturn\u001b[39;00m x, y\n\u001b[0;32m---> <a href='vscode-notebook-cell:/Users/paul/Desktop/JHElab/Project/Neural%20ODE/Lab-04-2%20Loading%20Data.ipynb#W1sZmlsZQ%3D%3D?line=25'>26</a>\u001b[0m dataset \u001b[39m=\u001b[39m CustomDataset()\n",
      "\u001b[1;32m/Users/paul/Desktop/JHElab/Project/Neural ODE/Lab-04-2 Loading Data.ipynb 셀 2\u001b[0m in \u001b[0;36mCustomDataset.__init__\u001b[0;34m(self)\u001b[0m\n\u001b[1;32m      <a href='vscode-notebook-cell:/Users/paul/Desktop/JHElab/Project/Neural%20ODE/Lab-04-2%20Loading%20Data.ipynb#W1sZmlsZQ%3D%3D?line=4'>5</a>\u001b[0m \u001b[39mdef\u001b[39;00m \u001b[39m__init__\u001b[39m(\u001b[39mself\u001b[39m):\n\u001b[1;32m      <a href='vscode-notebook-cell:/Users/paul/Desktop/JHElab/Project/Neural%20ODE/Lab-04-2%20Loading%20Data.ipynb#W1sZmlsZQ%3D%3D?line=5'>6</a>\u001b[0m     \u001b[39mself\u001b[39m\u001b[39m.\u001b[39mx_data \u001b[39m=\u001b[39m [[\u001b[39m73\u001b[39m, \u001b[39m80\u001b[39m, \u001b[39m75\u001b[39m],\n\u001b[1;32m      <a href='vscode-notebook-cell:/Users/paul/Desktop/JHElab/Project/Neural%20ODE/Lab-04-2%20Loading%20Data.ipynb#W1sZmlsZQ%3D%3D?line=6'>7</a>\u001b[0m                     [\u001b[39m93\u001b[39m, \u001b[39m88\u001b[39m, \u001b[39m93\u001b[39m],\n\u001b[1;32m      <a href='vscode-notebook-cell:/Users/paul/Desktop/JHElab/Project/Neural%20ODE/Lab-04-2%20Loading%20Data.ipynb#W1sZmlsZQ%3D%3D?line=7'>8</a>\u001b[0m                     [\u001b[39m89\u001b[39m, \u001b[39m91\u001b[39m, \u001b[39m90\u001b[39m],\n\u001b[0;32m----> <a href='vscode-notebook-cell:/Users/paul/Desktop/JHElab/Project/Neural%20ODE/Lab-04-2%20Loading%20Data.ipynb#W1sZmlsZQ%3D%3D?line=8'>9</a>\u001b[0m                     [\u001b[39m96\u001b[39;49m, \u001b[39m88\u001b[39;49m, \u001b[39m100\u001b[39;49m] \n\u001b[1;32m     <a href='vscode-notebook-cell:/Users/paul/Desktop/JHElab/Project/Neural%20ODE/Lab-04-2%20Loading%20Data.ipynb#W1sZmlsZQ%3D%3D?line=9'>10</a>\u001b[0m                     [\u001b[39m73\u001b[39;49m, \u001b[39m66\u001b[39;49m, \u001b[39m70\u001b[39;49m]]\n\u001b[1;32m     <a href='vscode-notebook-cell:/Users/paul/Desktop/JHElab/Project/Neural%20ODE/Lab-04-2%20Loading%20Data.ipynb#W1sZmlsZQ%3D%3D?line=10'>11</a>\u001b[0m     \u001b[39mself\u001b[39m\u001b[39m.\u001b[39my_data \u001b[39m=\u001b[39m [[\u001b[39m152\u001b[39m],\n\u001b[1;32m     <a href='vscode-notebook-cell:/Users/paul/Desktop/JHElab/Project/Neural%20ODE/Lab-04-2%20Loading%20Data.ipynb#W1sZmlsZQ%3D%3D?line=11'>12</a>\u001b[0m                     [\u001b[39m185\u001b[39m],\n\u001b[1;32m     <a href='vscode-notebook-cell:/Users/paul/Desktop/JHElab/Project/Neural%20ODE/Lab-04-2%20Loading%20Data.ipynb#W1sZmlsZQ%3D%3D?line=12'>13</a>\u001b[0m                     [\u001b[39m180\u001b[39m],\n\u001b[1;32m     <a href='vscode-notebook-cell:/Users/paul/Desktop/JHElab/Project/Neural%20ODE/Lab-04-2%20Loading%20Data.ipynb#W1sZmlsZQ%3D%3D?line=13'>14</a>\u001b[0m                     [\u001b[39m196\u001b[39m],\n\u001b[1;32m     <a href='vscode-notebook-cell:/Users/paul/Desktop/JHElab/Project/Neural%20ODE/Lab-04-2%20Loading%20Data.ipynb#W1sZmlsZQ%3D%3D?line=14'>15</a>\u001b[0m                     [\u001b[39m142\u001b[39m]]\n",
      "\u001b[0;31mTypeError\u001b[0m: list indices must be integers or slices, not tuple"
     ]
    }
   ],
   "source": [
    "import torch\n",
    "from torch.utils.data import Dataset\n",
    "\n",
    "class CustomDataset(Dataset):\n",
    "    def __init__(self):\n",
    "        self.x_data = [[73, 80, 75],\n",
    "                        [93, 88, 93],\n",
    "                        [89, 91, 90],\n",
    "                        [96, 88, 100] \n",
    "                        [73, 66, 70]]\n",
    "        self.y_data = [[152],\n",
    "                        [185],\n",
    "                        [180],\n",
    "                        [196],\n",
    "                        [142]]\n",
    "\n",
    "    def __len__(self):\n",
    "        return len(self.x_data)\n",
    "    \n",
    "    def __getitem__(self, idx):\n",
    "        x = torch.FloatTensor(self.x_data[idx])\n",
    "        y = torch.FloatTensor(self.y_data[idx])\n",
    "\n",
    "        return x, y\n",
    "\n",
    "dataset = CustomDataset()        "
   ]
  },
  {
   "cell_type": "code",
   "execution_count": null,
   "metadata": {},
   "outputs": [],
   "source": []
  }
 ],
 "metadata": {
  "kernelspec": {
   "display_name": "qtc",
   "language": "python",
   "name": "python3"
  },
  "language_info": {
   "codemirror_mode": {
    "name": "ipython",
    "version": 3
   },
   "file_extension": ".py",
   "mimetype": "text/x-python",
   "name": "python",
   "nbconvert_exporter": "python",
   "pygments_lexer": "ipython3",
   "version": "3.10.8"
  },
  "orig_nbformat": 4,
  "vscode": {
   "interpreter": {
    "hash": "3e34661f62bd8e945851969cf164be387ceff78bd554b7a7643e0a350d74b779"
   }
  }
 },
 "nbformat": 4,
 "nbformat_minor": 2
}
