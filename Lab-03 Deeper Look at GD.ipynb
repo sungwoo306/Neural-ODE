{
 "cells": [
  {
   "cell_type": "code",
   "execution_count": 4,
   "metadata": {},
   "outputs": [
    {
     "name": "stdout",
     "output_type": "stream",
     "text": [
      "Epoch:    0/10 W: 0.000, Cost: 18.666666\n",
      "Epoch:    1/10 W: 2.800, Cost: 2.986666\n",
      "Epoch:    2/10 W: 1.680, Cost: 0.477867\n",
      "Epoch:    3/10 W: 2.128, Cost: 0.076459\n",
      "Epoch:    4/10 W: 1.949, Cost: 0.012233\n",
      "Epoch:    5/10 W: 2.020, Cost: 0.001957\n",
      "Epoch:    6/10 W: 1.992, Cost: 0.000313\n",
      "Epoch:    7/10 W: 2.003, Cost: 0.000050\n",
      "Epoch:    8/10 W: 1.999, Cost: 0.000008\n",
      "Epoch:    9/10 W: 2.001, Cost: 0.000001\n",
      "Epoch:   10/10 W: 2.000, Cost: 0.000000\n"
     ]
    }
   ],
   "source": [
    "# Lab-03 Deeper Look at GD\n",
    "# Simpler Hypothesis Function\n",
    "import torch\n",
    "\n",
    "# 데이터\n",
    "x_train = torch.FloatTensor([[1],[2],[3]])\n",
    "y_train = torch.FloatTensor([[2],[4],[6]])\n",
    "\n",
    "# 모델 초기화\n",
    "W = torch.zeros(1) \n",
    "\n",
    "# Learning rate 설정\n",
    "lr = 0.1\n",
    "\n",
    "nb_epochs = 10\n",
    "for epoch in range(nb_epochs+1):\n",
    "    # H(x) 계산\n",
    "    hypothesis = x_train * W\n",
    "    # cost gradient 계산\n",
    "    cost = torch.mean((hypothesis - y_train)**2)\n",
    "    gradient = torch.sum((W*x_train-y_train)*x_train)\n",
    "    \n",
    "    print('Epoch: {:4d}/{} W: {:.3f}, Cost: {:.6f}'.format(epoch, nb_epochs, W.item(), cost.item()))\n",
    "    \n",
    "    # cost gradient로 H(x) 개선\n",
    "    W -= lr * gradient"
   ]
  },
  {
   "cell_type": "code",
   "execution_count": 5,
   "metadata": {},
   "outputs": [],
   "source": [
    "# torch.optim으로도 gradient descent를 할 수 있음\n",
    "# 시작할 때 Optimizer 정의\n",
    "# optimizer.zero_grad()로 gradient를 0으로 초기화\n",
    "# cost.backward()로 gradient 계산\n",
    "# optimizer.step()으로 gradient descent"
   ]
  },
  {
   "cell_type": "code",
   "execution_count": 6,
   "metadata": {},
   "outputs": [
    {
     "ename": "RuntimeError",
     "evalue": "element 0 of tensors does not require grad and does not have a grad_fn",
     "output_type": "error",
     "traceback": [
      "\u001b[0;31m---------------------------------------------------------------------------\u001b[0m",
      "\u001b[0;31mRuntimeError\u001b[0m                              Traceback (most recent call last)",
      "\u001b[1;32m/Users/paul/Desktop/JHElab/Project/Neural ODE/Lab-03 Deeper Look at GD.ipynb 셀 3\u001b[0m in \u001b[0;36m<cell line: 6>\u001b[0;34m()\u001b[0m\n\u001b[1;32m      <a href='vscode-notebook-cell:/Users/paul/Desktop/JHElab/Project/Neural%20ODE/Lab-03%20Deeper%20Look%20at%20GD.ipynb#W2sZmlsZQ%3D%3D?line=3'>4</a>\u001b[0m \u001b[39m# cost로 H(x) 개선\u001b[39;00m\n\u001b[1;32m      <a href='vscode-notebook-cell:/Users/paul/Desktop/JHElab/Project/Neural%20ODE/Lab-03%20Deeper%20Look%20at%20GD.ipynb#W2sZmlsZQ%3D%3D?line=4'>5</a>\u001b[0m optimizer\u001b[39m.\u001b[39mzero_grad()\n\u001b[0;32m----> <a href='vscode-notebook-cell:/Users/paul/Desktop/JHElab/Project/Neural%20ODE/Lab-03%20Deeper%20Look%20at%20GD.ipynb#W2sZmlsZQ%3D%3D?line=5'>6</a>\u001b[0m cost\u001b[39m.\u001b[39;49mbackward()\n\u001b[1;32m      <a href='vscode-notebook-cell:/Users/paul/Desktop/JHElab/Project/Neural%20ODE/Lab-03%20Deeper%20Look%20at%20GD.ipynb#W2sZmlsZQ%3D%3D?line=6'>7</a>\u001b[0m optimizer\u001b[39m.\u001b[39mstep()\n",
      "File \u001b[0;32m~/opt/miniconda3/envs/qtc/lib/python3.10/site-packages/torch/_tensor.py:488\u001b[0m, in \u001b[0;36mTensor.backward\u001b[0;34m(self, gradient, retain_graph, create_graph, inputs)\u001b[0m\n\u001b[1;32m    478\u001b[0m \u001b[39mif\u001b[39;00m has_torch_function_unary(\u001b[39mself\u001b[39m):\n\u001b[1;32m    479\u001b[0m     \u001b[39mreturn\u001b[39;00m handle_torch_function(\n\u001b[1;32m    480\u001b[0m         Tensor\u001b[39m.\u001b[39mbackward,\n\u001b[1;32m    481\u001b[0m         (\u001b[39mself\u001b[39m,),\n\u001b[0;32m   (...)\u001b[0m\n\u001b[1;32m    486\u001b[0m         inputs\u001b[39m=\u001b[39minputs,\n\u001b[1;32m    487\u001b[0m     )\n\u001b[0;32m--> 488\u001b[0m torch\u001b[39m.\u001b[39;49mautograd\u001b[39m.\u001b[39;49mbackward(\n\u001b[1;32m    489\u001b[0m     \u001b[39mself\u001b[39;49m, gradient, retain_graph, create_graph, inputs\u001b[39m=\u001b[39;49minputs\n\u001b[1;32m    490\u001b[0m )\n",
      "File \u001b[0;32m~/opt/miniconda3/envs/qtc/lib/python3.10/site-packages/torch/autograd/__init__.py:197\u001b[0m, in \u001b[0;36mbackward\u001b[0;34m(tensors, grad_tensors, retain_graph, create_graph, grad_variables, inputs)\u001b[0m\n\u001b[1;32m    192\u001b[0m     retain_graph \u001b[39m=\u001b[39m create_graph\n\u001b[1;32m    194\u001b[0m \u001b[39m# The reason we repeat same the comment below is that\u001b[39;00m\n\u001b[1;32m    195\u001b[0m \u001b[39m# some Python versions print out the first line of a multi-line function\u001b[39;00m\n\u001b[1;32m    196\u001b[0m \u001b[39m# calls in the traceback and some print out the last line\u001b[39;00m\n\u001b[0;32m--> 197\u001b[0m Variable\u001b[39m.\u001b[39;49m_execution_engine\u001b[39m.\u001b[39;49mrun_backward(  \u001b[39m# Calls into the C++ engine to run the backward pass\u001b[39;49;00m\n\u001b[1;32m    198\u001b[0m     tensors, grad_tensors_, retain_graph, create_graph, inputs,\n\u001b[1;32m    199\u001b[0m     allow_unreachable\u001b[39m=\u001b[39;49m\u001b[39mTrue\u001b[39;49;00m, accumulate_grad\u001b[39m=\u001b[39;49m\u001b[39mTrue\u001b[39;49;00m)\n",
      "\u001b[0;31mRuntimeError\u001b[0m: element 0 of tensors does not require grad and does not have a grad_fn"
     ]
    }
   ],
   "source": [
    "# optimizer 설정\n",
    "optimizer = torch.optim.SGD([W], lr=0.15)\n",
    "\n",
    "# cost로 H(x) 개선\n",
    "optimizer.zero_grad()\n",
    "cost.backward()\n",
    "optimizer.step()"
   ]
  },
  {
   "cell_type": "code",
   "execution_count": 7,
   "metadata": {},
   "outputs": [
    {
     "name": "stdout",
     "output_type": "stream",
     "text": [
      "Epoch:    0/10 W: 0.000, Cost: 4.666667\n",
      "Epoch:    1/10 W: 1.400, Cost: 0.746667\n",
      "Epoch:    2/10 W: 0.840, Cost: 0.119467\n",
      "Epoch:    3/10 W: 1.064, Cost: 0.019115\n",
      "Epoch:    4/10 W: 0.974, Cost: 0.003058\n",
      "Epoch:    5/10 W: 1.010, Cost: 0.000489\n",
      "Epoch:    6/10 W: 0.996, Cost: 0.000078\n",
      "Epoch:    7/10 W: 1.002, Cost: 0.000013\n",
      "Epoch:    8/10 W: 0.999, Cost: 0.000002\n",
      "Epoch:    9/10 W: 1.000, Cost: 0.000000\n",
      "Epoch:   10/10 W: 1.000, Cost: 0.000000\n"
     ]
    }
   ],
   "source": [
    "# Lab-03 Deeper Look at GD\n",
    "# Simpler Hypothesis Function\n",
    "import torch\n",
    "\n",
    "# 데이터\n",
    "x_train = torch.FloatTensor([[1],[2],[3]])\n",
    "y_train = torch.FloatTensor([[1],[2],[3]])\n",
    "\n",
    "# 모델 초기화\n",
    "W = torch.zeros(1,requires_grad=True) \n",
    "\n",
    "# optimizer 설정\n",
    "optimizer = torch.optim.SGD([W], lr=0.15)\n",
    "\n",
    "nb_epochs = 10\n",
    "for epoch in range(nb_epochs+1):\n",
    "    # H(x) 계산\n",
    "    hypothesis = x_train * W\n",
    "    # cost 계산\n",
    "    cost = torch.mean((hypothesis - y_train)**2)\n",
    "    \n",
    "    print('Epoch: {:4d}/{} W: {:.3f}, Cost: {:.6f}'.format(epoch, nb_epochs, W.item(), cost.item()))\n",
    "    \n",
    "    # cost gradient로 H(x) 개선\n",
    "    optimizer.zero_grad()\n",
    "    cost.backward()\n",
    "    optimizer.step()"
   ]
  },
  {
   "cell_type": "code",
   "execution_count": null,
   "metadata": {},
   "outputs": [],
   "source": []
  }
 ],
 "metadata": {
  "kernelspec": {
   "display_name": "qtc",
   "language": "python",
   "name": "python3"
  },
  "language_info": {
   "codemirror_mode": {
    "name": "ipython",
    "version": 3
   },
   "file_extension": ".py",
   "mimetype": "text/x-python",
   "name": "python",
   "nbconvert_exporter": "python",
   "pygments_lexer": "ipython3",
   "version": "3.10.8"
  },
  "orig_nbformat": 4,
  "vscode": {
   "interpreter": {
    "hash": "3e34661f62bd8e945851969cf164be387ceff78bd554b7a7643e0a350d74b779"
   }
  }
 },
 "nbformat": 4,
 "nbformat_minor": 2
}
