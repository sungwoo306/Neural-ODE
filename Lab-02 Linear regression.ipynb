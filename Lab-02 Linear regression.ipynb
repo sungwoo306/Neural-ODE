{
 "cells": [
  {
   "cell_type": "code",
   "execution_count": null,
   "metadata": {},
   "outputs": [],
   "source": [
    "import torch\n",
    "x_train = torch.FloatTensor([[1],[2],[3]])\n",
    "y_train = torch.FloatTensor([[2],[4],[6]])\n",
    "W = torch.zeros(1, requires_grad=True) # equires_grad=True 가 학습할 것이라고 명시, W, b는 0으로 초기화\n",
    "b = torch.zeros(1, requires_grad=True)\n",
    "hypothesis = x_train * W +b\n",
    "cost = torch.mean((hypothesis - y_train)**2)\n",
    "optimizer = torch.optim.SGD([W,b], lr=0.01) # [W,b]는 학습할 tensor들, lr은 learnin rate\n",
    "optimizer.zero_grad() # 여기 3줄은 항상 따라다님\n",
    "cost.backward()\n",
    "optimizer.step()\n",
    "\n",
    "# 한 번만 \n",
    "# 1. 데이터 정의\n",
    "# 2. Hypothesis 초기화\n",
    "# 3. Optimizer 정의"
   ]
  },
  {
   "cell_type": "code",
   "execution_count": 12,
   "metadata": {},
   "outputs": [],
   "source": [
    "nb_epochs = 1000\n",
    "for epoch in range(1, nb_epochs +1):\n",
    "    hypothesis = x_train * W + b\n",
    "    cost = torch.mean((hypothesis - y_train)**2)\n",
    "\n",
    "    optimizer.zero_grad()\n",
    "    cost.backward()\n",
    "    optimizer.step()\n",
    "    \n",
    "# 반복\n",
    "# 1. Hypothesis 예측\n",
    "# 2. Cost 계산\n",
    "# 3. Optimizer로 학습"
   ]
  },
  {
   "cell_type": "code",
   "execution_count": null,
   "metadata": {},
   "outputs": [],
   "source": []
  }
 ],
 "metadata": {
  "kernelspec": {
   "display_name": "qtc",
   "language": "python",
   "name": "python3"
  },
  "language_info": {
   "codemirror_mode": {
    "name": "ipython",
    "version": 3
   },
   "file_extension": ".py",
   "mimetype": "text/x-python",
   "name": "python",
   "nbconvert_exporter": "python",
   "pygments_lexer": "ipython3",
   "version": "3.10.8"
  },
  "orig_nbformat": 4,
  "vscode": {
   "interpreter": {
    "hash": "3e34661f62bd8e945851969cf164be387ceff78bd554b7a7643e0a350d74b779"
   }
  }
 },
 "nbformat": 4,
 "nbformat_minor": 2
}
