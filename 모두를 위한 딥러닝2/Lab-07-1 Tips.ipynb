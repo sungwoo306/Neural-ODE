{
 "cells": [
  {
   "cell_type": "code",
   "execution_count": 1,
   "metadata": {},
   "outputs": [],
   "source": [
    "# Lab-07-1 Tips"
   ]
  },
  {
   "attachments": {},
   "cell_type": "markdown",
   "metadata": {},
   "source": [
    "##### Overfitting \n",
    "- -> 주어진 데이터에 대해 과도하게 fitting된 경우를 나타냄 -> 방지하고자 training set, developement set(validation set), test set으로 구성한다\n",
    "-  train loss, validation loss - epoch 그래프에서 validation loss는 작아지다가 커지고, train loss는 계속 작아짐\n",
    "- validation loss의 최소값 이후부터는 overfitting 되는 것임 -> 최소인 epoch을 선택하면 됨\n",
    "- Overfitting을 해결하기 위한 방법\n",
    "- More data, Less feature, Regularization(*)"
   ]
  },
  {
   "attachments": {},
   "cell_type": "markdown",
   "metadata": {},
   "source": [
    "##### Regulariztion\n",
    "- Early Stopping : Validation Loss가 더이상 낮아지지 않을때 \n",
    "- Reducing Network Size : Neural Network size 줄여서 학습할 수 있는 양을 줄이는 것\n",
    "- Weight Decay : Neural Network weight parameter의 크기를 제한하는 방버도 있음\n",
    "- Dropout(*) : 가장 많이 쓰임(딥러닝)\n",
    "- Batch Normalization(*) : 가장 많이 쓰임(딥러닝)"
   ]
  },
  {
   "attachments": {},
   "cell_type": "markdown",
   "metadata": {},
   "source": [
    "#### Basic Approach to Train DNN\n",
    "1. Make a neural network architecture -> input size, output size = fix\n",
    "2. Train and check that model is over-fitted\n",
    "- a. If it is not, increase the model size(deeper and wider) -> 중간에 있는 Layer들은 넓이와 깊이를 조정\n",
    "- b. If it is, add regularization, such as drop-out, batch-normalization\n",
    "3. Repeat from step-2  "
   ]
  },
  {
   "attachments": {},
   "cell_type": "markdown",
   "metadata": {},
   "source": []
  }
 ],
 "metadata": {
  "kernelspec": {
   "display_name": "qtc",
   "language": "python",
   "name": "python3"
  },
  "language_info": {
   "codemirror_mode": {
    "name": "ipython",
    "version": 3
   },
   "file_extension": ".py",
   "mimetype": "text/x-python",
   "name": "python",
   "nbconvert_exporter": "python",
   "pygments_lexer": "ipython3",
   "version": "3.10.8"
  },
  "orig_nbformat": 4,
  "vscode": {
   "interpreter": {
    "hash": "3e34661f62bd8e945851969cf164be387ceff78bd554b7a7643e0a350d74b779"
   }
  }
 },
 "nbformat": 4,
 "nbformat_minor": 2
}
