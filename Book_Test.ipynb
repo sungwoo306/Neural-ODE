{
 "cells": [
  {
   "attachments": {},
   "cell_type": "markdown",
   "metadata": {},
   "source": [
    "#### 3.2.1 From Python lists to PyTorch tensors"
   ]
  },
  {
   "cell_type": "code",
   "execution_count": 2,
   "metadata": {},
   "outputs": [],
   "source": [
    "import torch\n",
    "a = [1.0, 2.0, 1.0]"
   ]
  },
  {
   "cell_type": "code",
   "execution_count": 8,
   "metadata": {},
   "outputs": [
    {
     "data": {
      "text/plain": [
       "[1.0, 2.0, 3.0]"
      ]
     },
     "execution_count": 8,
     "metadata": {},
     "output_type": "execute_result"
    }
   ],
   "source": [
    "a[0]\n",
    "a[2] = 3.0\n",
    "a[2]\n",
    "a"
   ]
  },
  {
   "attachments": {},
   "cell_type": "markdown",
   "metadata": {},
   "source": [
    "#### Constructing our first tensors"
   ]
  },
  {
   "cell_type": "code",
   "execution_count": 14,
   "metadata": {},
   "outputs": [
    {
     "data": {
      "text/plain": [
       "tensor([1., 1., 1.])"
      ]
     },
     "execution_count": 14,
     "metadata": {},
     "output_type": "execute_result"
    }
   ],
   "source": [
    "a = torch.ones(3)\n",
    "a"
   ]
  },
  {
   "cell_type": "code",
   "execution_count": 15,
   "metadata": {},
   "outputs": [
    {
     "data": {
      "text/plain": [
       "tensor(1.)"
      ]
     },
     "execution_count": 15,
     "metadata": {},
     "output_type": "execute_result"
    }
   ],
   "source": [
    "a[1]"
   ]
  },
  {
   "cell_type": "code",
   "execution_count": 17,
   "metadata": {},
   "outputs": [
    {
     "data": {
      "text/plain": [
       "1.0"
      ]
     },
     "execution_count": 17,
     "metadata": {},
     "output_type": "execute_result"
    }
   ],
   "source": [
    "float(a[1])"
   ]
  },
  {
   "cell_type": "code",
   "execution_count": 20,
   "metadata": {},
   "outputs": [
    {
     "data": {
      "text/plain": [
       "tensor([1., 1., 2.])"
      ]
     },
     "execution_count": 20,
     "metadata": {},
     "output_type": "execute_result"
    }
   ],
   "source": [
    "a[2] = 2.0\n",
    "a"
   ]
  },
  {
   "attachments": {},
   "cell_type": "markdown",
   "metadata": {},
   "source": [
    "#### 3.2.3 The essence of tensors"
   ]
  },
  {
   "cell_type": "code",
   "execution_count": 23,
   "metadata": {},
   "outputs": [
    {
     "data": {
      "text/plain": [
       "tensor([4., 1., 5., 3., 2., 1.])"
      ]
     },
     "execution_count": 23,
     "metadata": {},
     "output_type": "execute_result"
    }
   ],
   "source": [
    "points = torch.zeros(6)\n",
    "points[0] = 4.0\n",
    "points[1] = 1.0\n",
    "points[2] = 5.0\n",
    "points[3] = 3.0\n",
    "points[4] = 2.0\n",
    "points[5] = 1.0\n",
    "points\n"
   ]
  },
  {
   "cell_type": "code",
   "execution_count": 24,
   "metadata": {},
   "outputs": [
    {
     "data": {
      "text/plain": [
       "tensor([4., 1., 5., 3., 2., 1.])"
      ]
     },
     "execution_count": 24,
     "metadata": {},
     "output_type": "execute_result"
    }
   ],
   "source": [
    "points = torch.tensor([4.0, 1.0, 5.0, 3.0, 2.0, 1.0])\n",
    "points"
   ]
  },
  {
   "cell_type": "code",
   "execution_count": 27,
   "metadata": {},
   "outputs": [
    {
     "data": {
      "text/plain": [
       "(4.0, 1.0)"
      ]
     },
     "execution_count": 27,
     "metadata": {},
     "output_type": "execute_result"
    }
   ],
   "source": [
    "float(points[0]), float(points[1])"
   ]
  },
  {
   "cell_type": "code",
   "execution_count": 28,
   "metadata": {},
   "outputs": [
    {
     "data": {
      "text/plain": [
       "tensor([[4., 1.],\n",
       "        [5., 3.],\n",
       "        [2., 1.]])"
      ]
     },
     "execution_count": 28,
     "metadata": {},
     "output_type": "execute_result"
    }
   ],
   "source": [
    "points = torch.tensor([[4.0,1.0],[5.0,3.0],[2.0,1.0]])\n",
    "points"
   ]
  },
  {
   "cell_type": "code",
   "execution_count": 29,
   "metadata": {},
   "outputs": [
    {
     "data": {
      "text/plain": [
       "torch.Size([3, 2])"
      ]
     },
     "execution_count": 29,
     "metadata": {},
     "output_type": "execute_result"
    }
   ],
   "source": [
    "points.shape"
   ]
  },
  {
   "cell_type": "code",
   "execution_count": 32,
   "metadata": {},
   "outputs": [
    {
     "data": {
      "text/plain": [
       "tensor([[0., 0.],\n",
       "        [0., 0.],\n",
       "        [0., 0.]])"
      ]
     },
     "execution_count": 32,
     "metadata": {},
     "output_type": "execute_result"
    }
   ],
   "source": [
    "points = torch.zeros(3,2)\n",
    "points"
   ]
  },
  {
   "cell_type": "code",
   "execution_count": 33,
   "metadata": {},
   "outputs": [
    {
     "data": {
      "text/plain": [
       "tensor(1.)"
      ]
     },
     "execution_count": 33,
     "metadata": {},
     "output_type": "execute_result"
    }
   ],
   "source": [
    "points = torch.tensor([[4.0,1.0],[5.0,3.0],[2.0,1.0]])\n",
    "points[0,1]"
   ]
  },
  {
   "cell_type": "code",
   "execution_count": 34,
   "metadata": {},
   "outputs": [
    {
     "data": {
      "text/plain": [
       "tensor([4., 1.])"
      ]
     },
     "execution_count": 34,
     "metadata": {},
     "output_type": "execute_result"
    }
   ],
   "source": [
    "points[0]"
   ]
  },
  {
   "attachments": {},
   "cell_type": "markdown",
   "metadata": {},
   "source": [
    "#### 3.3 Indexing Tensor"
   ]
  },
  {
   "cell_type": "code",
   "execution_count": 50,
   "metadata": {},
   "outputs": [
    {
     "data": {
      "text/plain": [
       "[1, 3]"
      ]
     },
     "execution_count": 50,
     "metadata": {},
     "output_type": "execute_result"
    }
   ],
   "source": [
    "some_list = list(range(6))\n",
    "some_list[:]\n",
    "some_list[1:4]\n",
    "some_list[1:]\n",
    "some_list[:-1]\n",
    "some_list[1:4:2]"
   ]
  },
  {
   "cell_type": "code",
   "execution_count": 56,
   "metadata": {},
   "outputs": [
    {
     "data": {
      "text/plain": [
       "tensor([[[4., 1.],\n",
       "         [5., 3.],\n",
       "         [2., 1.]]])"
      ]
     },
     "execution_count": 56,
     "metadata": {},
     "output_type": "execute_result"
    }
   ],
   "source": [
    "points[1:]\n",
    "points[1:,:]\n",
    "points[1:,0]\n",
    "points[None] "
   ]
  },
  {
   "attachments": {},
   "cell_type": "markdown",
   "metadata": {},
   "source": [
    "#### 3.4 Named tensors"
   ]
  },
  {
   "cell_type": "code",
   "execution_count": 68,
   "metadata": {},
   "outputs": [
    {
     "data": {
      "text/plain": [
       "tensor([[[ 0.6322, -0.5656,  0.2024, -0.8776, -0.2098],\n",
       "         [-1.8268, -0.8488, -3.3516,  0.4154, -0.3065],\n",
       "         [ 0.6069,  0.2908,  0.7466,  0.1745, -1.2304],\n",
       "         [ 2.1798,  2.0832,  0.0914,  2.1204, -0.2630],\n",
       "         [-0.5659, -0.6019,  0.9852,  1.2570, -1.0116]],\n",
       "\n",
       "        [[ 1.1560, -0.3889, -0.1552,  1.8253, -1.3886],\n",
       "         [ 0.5546,  1.0211,  0.7299, -0.6069, -0.2443],\n",
       "         [-0.8529, -1.4834, -0.6923, -0.1683, -0.4389],\n",
       "         [ 0.3704,  1.3028, -0.1395, -0.6244, -1.4982],\n",
       "         [-0.2415, -0.3498,  0.2903, -0.7878,  0.2743]],\n",
       "\n",
       "        [[ 0.8095,  0.9049, -0.7616, -0.3768,  0.0737],\n",
       "         [-1.1673,  0.2119,  0.3719,  0.4346, -0.6394],\n",
       "         [ 0.1020,  0.7570,  0.6370,  0.5251,  0.3447],\n",
       "         [-0.1364,  0.8966, -2.1693, -1.7510,  0.2114],\n",
       "         [-0.1477, -1.9529, -0.4617,  0.1703,  1.9427]]])"
      ]
     },
     "execution_count": 68,
     "metadata": {},
     "output_type": "execute_result"
    }
   ],
   "source": [
    "img_t = torch.randn(3,5,5) # shape [channels, rows, columns]\n",
    "weights = torch.tensor([0.2126, 0.7152, 0.0722])\n",
    "img_t"
   ]
  },
  {
   "cell_type": "code",
   "execution_count": 59,
   "metadata": {},
   "outputs": [],
   "source": [
    "batch_t = torch.randn(2, 3, 5, 5)"
   ]
  },
  {
   "cell_type": "code",
   "execution_count": 67,
   "metadata": {},
   "outputs": [
    {
     "data": {
      "text/plain": [
       "tensor([[-0.1640, -0.4979,  0.6942, -0.3719, -0.2050],\n",
       "        [ 0.6882,  0.1505,  0.1878, -0.0644, -0.1099],\n",
       "        [-0.6518,  0.8798, -0.8236,  0.1086,  0.1859]])"
      ]
     },
     "execution_count": 67,
     "metadata": {},
     "output_type": "execute_result"
    }
   ],
   "source": [
    "img_gray_naive = img_t.mean(-3) # ()안에 숫자는 .size()의 Index위치를 나타냄. negative indexing이 가능함. 보통은 -1만 씀.\n",
    "img_gray_naive"
   ]
  },
  {
   "cell_type": "code",
   "execution_count": 107,
   "metadata": {},
   "outputs": [
    {
     "name": "stdout",
     "output_type": "stream",
     "text": [
      "torch.Size([2, 3, 5, 5])\n"
     ]
    },
    {
     "data": {
      "text/plain": [
       "tensor([[[[[-0.2522, -0.5465, -1.0661, -0.2703,  0.2912],\n",
       "           [-1.9194,  0.6558, -0.4081, -0.8264, -0.8559],\n",
       "           [ 0.5533,  0.3027, -0.2299,  0.3027,  0.4724],\n",
       "           [-0.5589, -0.3083,  0.6340,  1.3137, -0.2567],\n",
       "           [ 0.9770,  0.1861,  0.1670, -0.4332, -1.7593]],\n",
       "\n",
       "          [[ 0.8892, -1.5584,  1.7762,  1.1250,  0.9167],\n",
       "           [-0.2574,  2.0215, -1.4506, -1.5133,  1.1040],\n",
       "           [-1.4660,  1.1427,  0.0780,  1.4443, -0.2254],\n",
       "           [ 1.3790,  0.6935,  0.7775,  0.7608,  1.2757],\n",
       "           [ 1.2280,  1.6489, -0.3250, -2.9801,  0.6217]],\n",
       "\n",
       "          [[ 0.7542,  0.0473,  1.4862, -0.9190,  0.6266],\n",
       "           [ 0.4374, -0.0491, -0.6902,  0.4553,  1.7174],\n",
       "           [-2.6700,  0.1640, -0.3968, -0.1187, -0.7723],\n",
       "           [ 0.1353, -0.4946,  0.1478,  0.2152,  0.6907],\n",
       "           [-0.8084,  1.9641,  1.0960,  0.6123,  1.3975]]]],\n",
       "\n",
       "\n",
       "\n",
       "        [[[[-0.2968, -0.3184, -0.0831,  0.6939,  2.8530],\n",
       "           [-0.4354,  0.2734,  0.4533, -0.8902,  0.4136],\n",
       "           [ 0.2175, -1.2081,  0.5402,  0.0685, -0.1062],\n",
       "           [-0.7442,  0.2690,  0.1636, -0.3884, -0.2059],\n",
       "           [-1.4737,  0.4727,  0.9100, -0.5217, -1.0241]],\n",
       "\n",
       "          [[ 0.7782,  0.4683,  1.0676,  0.4599, -0.0543],\n",
       "           [-0.9072,  0.5023, -0.5074, -0.3768,  1.5301],\n",
       "           [-0.1406,  0.6927,  0.0703, -0.2839, -1.2493],\n",
       "           [ 1.4478,  0.4198,  1.6579,  0.4050,  0.9759],\n",
       "           [ 1.2645, -0.9451, -2.1771,  1.5403,  0.3386]],\n",
       "\n",
       "          [[ 1.1269, -0.6187, -1.9026, -0.1027,  0.5921],\n",
       "           [ 0.7467,  0.4874,  1.5697,  0.5290,  1.1397],\n",
       "           [-0.8509,  0.5852, -0.5633, -1.2336, -0.5917],\n",
       "           [ 0.4043,  1.0880,  0.0556,  1.8936, -1.1289],\n",
       "           [ 1.0887,  0.6896, -0.0035,  0.7819,  1.7419]]]]])"
      ]
     },
     "execution_count": 107,
     "metadata": {},
     "output_type": "execute_result"
    }
   ],
   "source": [
    "unsqueezed_weights = weights.unsqueeze(0).unsqueeze_(1)\n",
    "unsqueezed_batch_t = batch_t.unsqueeze(1)\n",
    "print(batch_t.size())\n",
    "unsqueezed_batch_t.size()\n",
    "unsqueezed_batch_t"
   ]
  },
  {
   "cell_type": "code",
   "execution_count": 110,
   "metadata": {},
   "outputs": [
    {
     "name": "stdout",
     "output_type": "stream",
     "text": [
      "torch.Size([3, 2]) torch.Size([2])\n"
     ]
    },
    {
     "data": {
      "text/plain": [
       "tensor([[2, 3],\n",
       "        [4, 5],\n",
       "        [6, 7]])"
      ]
     },
     "execution_count": 110,
     "metadata": {},
     "output_type": "execute_result"
    }
   ],
   "source": [
    "a = torch.tensor([[1, 2], [3, 4], [5, 6]])\n",
    "b = torch.tensor([1, 1])\n",
    "print(a.size(), b.size())\n",
    "a+b"
   ]
  },
  {
   "cell_type": "code",
   "execution_count": 113,
   "metadata": {},
   "outputs": [
    {
     "name": "stdout",
     "output_type": "stream",
     "text": [
      "torch.Size([2, 3]) torch.Size([2])\n"
     ]
    },
    {
     "ename": "RuntimeError",
     "evalue": "The size of tensor a (3) must match the size of tensor b (2) at non-singleton dimension 1",
     "output_type": "error",
     "traceback": [
      "\u001b[0;31m---------------------------------------------------------------------------\u001b[0m",
      "\u001b[0;31mRuntimeError\u001b[0m                              Traceback (most recent call last)",
      "\u001b[1;32m/home/paul/Projects/Neural-ODE/Book_Test.ipynb Cell 27\u001b[0m in \u001b[0;36m<cell line: 4>\u001b[0;34m()\u001b[0m\n\u001b[1;32m      <a href='vscode-notebook-cell://wsl%2Bubuntu/home/paul/Projects/Neural-ODE/Book_Test.ipynb#X43sdnNjb2RlLXJlbW90ZQ%3D%3D?line=1'>2</a>\u001b[0m b \u001b[39m=\u001b[39m torch\u001b[39m.\u001b[39mtensor([\u001b[39m1\u001b[39m, \u001b[39m1\u001b[39m])\n\u001b[1;32m      <a href='vscode-notebook-cell://wsl%2Bubuntu/home/paul/Projects/Neural-ODE/Book_Test.ipynb#X43sdnNjb2RlLXJlbW90ZQ%3D%3D?line=2'>3</a>\u001b[0m \u001b[39mprint\u001b[39m(a\u001b[39m.\u001b[39msize(), b\u001b[39m.\u001b[39msize())\n\u001b[0;32m----> <a href='vscode-notebook-cell://wsl%2Bubuntu/home/paul/Projects/Neural-ODE/Book_Test.ipynb#X43sdnNjb2RlLXJlbW90ZQ%3D%3D?line=3'>4</a>\u001b[0m a\u001b[39m+\u001b[39;49mb\n",
      "\u001b[0;31mRuntimeError\u001b[0m: The size of tensor a (3) must match the size of tensor b (2) at non-singleton dimension 1"
     ]
    }
   ],
   "source": [
    "a = torch.tensor([[1, 3, 5], [2, 4, 6]])\n",
    "b = torch.tensor([1, 1])\n",
    "print(a.size(), b.size())\n",
    "a+b"
   ]
  },
  {
   "cell_type": "code",
   "execution_count": 121,
   "metadata": {},
   "outputs": [
    {
     "name": "stdout",
     "output_type": "stream",
     "text": [
      "tensor([[1],\n",
      "        [1]])\n",
      "torch.Size([2, 3]) torch.Size([2, 1])\n"
     ]
    },
    {
     "data": {
      "text/plain": [
       "tensor([[2, 4, 6],\n",
       "        [3, 5, 7]])"
      ]
     },
     "execution_count": 121,
     "metadata": {},
     "output_type": "execute_result"
    }
   ],
   "source": [
    "a = torch.tensor([[1, 3, 5], [2, 4, 6]])\n",
    "b = torch.tensor([1, 1]).unsqueeze(-1)\n",
    "print(b)\n",
    "print(a.size(), b.size())\n",
    "a+b"
   ]
  },
  {
   "cell_type": "code",
   "execution_count": null,
   "metadata": {},
   "outputs": [],
   "source": [
    "####"
   ]
  },
  {
   "cell_type": "code",
   "execution_count": null,
   "metadata": {},
   "outputs": [],
   "source": []
  }
 ],
 "metadata": {
  "kernelspec": {
   "display_name": "qtc",
   "language": "python",
   "name": "python3"
  },
  "language_info": {
   "codemirror_mode": {
    "name": "ipython",
    "version": 3
   },
   "file_extension": ".py",
   "mimetype": "text/x-python",
   "name": "python",
   "nbconvert_exporter": "python",
   "pygments_lexer": "ipython3",
   "version": "3.10.8 | packaged by conda-forge | (main, Nov 22 2022, 08:26:04) [GCC 10.4.0]"
  },
  "orig_nbformat": 4,
  "vscode": {
   "interpreter": {
    "hash": "2fba5e32b79efabcb3e61fd0983488144f0549e32fec524fd235f30c17e06c52"
   }
  }
 },
 "nbformat": 4,
 "nbformat_minor": 2
}
